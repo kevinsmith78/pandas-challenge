{
 "cells": [
  {
   "cell_type": "markdown",
   "metadata": {},
   "source": [
    "### Note\n",
    "* Instructions have been included for each segment. You do not have to follow them exactly, but they are included to help you think through the steps."
   ]
  },
  {
   "cell_type": "code",
   "execution_count": 36,
   "metadata": {},
   "outputs": [],
   "source": [
    "# Dependencies and Setup\n",
    "import pandas as pd\n",
    "import numpy as np"
   ]
  },
  {
   "cell_type": "code",
   "execution_count": 37,
   "metadata": {},
   "outputs": [],
   "source": [
    "# File to Load (Remember to Change These)\n",
    "school_data_to_load = \"Resources/schools_complete.csv\"\n",
    "student_data_to_load = \"Resources/students_complete.csv\""
   ]
  },
  {
   "cell_type": "code",
   "execution_count": 38,
   "metadata": {},
   "outputs": [],
   "source": [
    "# Read School and Student Data File and store into Pandas DataFrames\n",
    "school_data = pd.read_csv(school_data_to_load)\n",
    "student_data = pd.read_csv(student_data_to_load)"
   ]
  },
  {
   "cell_type": "code",
   "execution_count": 39,
   "metadata": {},
   "outputs": [
    {
     "data": {
      "text/html": [
       "<div>\n",
       "<style scoped>\n",
       "    .dataframe tbody tr th:only-of-type {\n",
       "        vertical-align: middle;\n",
       "    }\n",
       "\n",
       "    .dataframe tbody tr th {\n",
       "        vertical-align: top;\n",
       "    }\n",
       "\n",
       "    .dataframe thead th {\n",
       "        text-align: right;\n",
       "    }\n",
       "</style>\n",
       "<table border=\"1\" class=\"dataframe\">\n",
       "  <thead>\n",
       "    <tr style=\"text-align: right;\">\n",
       "      <th></th>\n",
       "      <th>Student ID</th>\n",
       "      <th>student_name</th>\n",
       "      <th>gender</th>\n",
       "      <th>grade</th>\n",
       "      <th>school_name</th>\n",
       "      <th>reading_score</th>\n",
       "      <th>math_score</th>\n",
       "      <th>School ID</th>\n",
       "      <th>type</th>\n",
       "      <th>size</th>\n",
       "      <th>budget</th>\n",
       "    </tr>\n",
       "  </thead>\n",
       "  <tbody>\n",
       "    <tr>\n",
       "      <th>0</th>\n",
       "      <td>0</td>\n",
       "      <td>Paul Bradley</td>\n",
       "      <td>M</td>\n",
       "      <td>9th</td>\n",
       "      <td>Huang High School</td>\n",
       "      <td>66</td>\n",
       "      <td>79</td>\n",
       "      <td>0</td>\n",
       "      <td>District</td>\n",
       "      <td>2917</td>\n",
       "      <td>1910635</td>\n",
       "    </tr>\n",
       "    <tr>\n",
       "      <th>1</th>\n",
       "      <td>1</td>\n",
       "      <td>Victor Smith</td>\n",
       "      <td>M</td>\n",
       "      <td>12th</td>\n",
       "      <td>Huang High School</td>\n",
       "      <td>94</td>\n",
       "      <td>61</td>\n",
       "      <td>0</td>\n",
       "      <td>District</td>\n",
       "      <td>2917</td>\n",
       "      <td>1910635</td>\n",
       "    </tr>\n",
       "    <tr>\n",
       "      <th>2</th>\n",
       "      <td>2</td>\n",
       "      <td>Kevin Rodriguez</td>\n",
       "      <td>M</td>\n",
       "      <td>12th</td>\n",
       "      <td>Huang High School</td>\n",
       "      <td>90</td>\n",
       "      <td>60</td>\n",
       "      <td>0</td>\n",
       "      <td>District</td>\n",
       "      <td>2917</td>\n",
       "      <td>1910635</td>\n",
       "    </tr>\n",
       "    <tr>\n",
       "      <th>3</th>\n",
       "      <td>3</td>\n",
       "      <td>Dr. Richard Scott</td>\n",
       "      <td>M</td>\n",
       "      <td>12th</td>\n",
       "      <td>Huang High School</td>\n",
       "      <td>67</td>\n",
       "      <td>58</td>\n",
       "      <td>0</td>\n",
       "      <td>District</td>\n",
       "      <td>2917</td>\n",
       "      <td>1910635</td>\n",
       "    </tr>\n",
       "    <tr>\n",
       "      <th>4</th>\n",
       "      <td>4</td>\n",
       "      <td>Bonnie Ray</td>\n",
       "      <td>F</td>\n",
       "      <td>9th</td>\n",
       "      <td>Huang High School</td>\n",
       "      <td>97</td>\n",
       "      <td>84</td>\n",
       "      <td>0</td>\n",
       "      <td>District</td>\n",
       "      <td>2917</td>\n",
       "      <td>1910635</td>\n",
       "    </tr>\n",
       "  </tbody>\n",
       "</table>\n",
       "</div>"
      ],
      "text/plain": [
       "   Student ID       student_name gender grade        school_name  \\\n",
       "0           0       Paul Bradley      M   9th  Huang High School   \n",
       "1           1       Victor Smith      M  12th  Huang High School   \n",
       "2           2    Kevin Rodriguez      M  12th  Huang High School   \n",
       "3           3  Dr. Richard Scott      M  12th  Huang High School   \n",
       "4           4         Bonnie Ray      F   9th  Huang High School   \n",
       "\n",
       "   reading_score  math_score  School ID      type  size   budget  \n",
       "0             66          79          0  District  2917  1910635  \n",
       "1             94          61          0  District  2917  1910635  \n",
       "2             90          60          0  District  2917  1910635  \n",
       "3             67          58          0  District  2917  1910635  \n",
       "4             97          84          0  District  2917  1910635  "
      ]
     },
     "execution_count": 39,
     "metadata": {},
     "output_type": "execute_result"
    }
   ],
   "source": [
    "# Combine the data into a single dataset.  \n",
    "school_data_complete = pd.merge(student_data, school_data, how=\"left\", on=[\"school_name\", \"school_name\"])\n",
    "school_data_complete.head()"
   ]
  },
  {
   "cell_type": "code",
   "execution_count": 40,
   "metadata": {
    "scrolled": false
   },
   "outputs": [
    {
     "data": {
      "text/plain": [
       "Bailey High School       4976\n",
       "Johnson High School      4761\n",
       "Hernandez High School    4635\n",
       "Rodriguez High School    3999\n",
       "Figueroa High School     2949\n",
       "Huang High School        2917\n",
       "Ford High School         2739\n",
       "Wilson High School       2283\n",
       "Cabrera High School      1858\n",
       "Wright High School       1800\n",
       "Shelton High School      1761\n",
       "Thomas High School       1635\n",
       "Griffin High School      1468\n",
       "Pena High School          962\n",
       "Holden High School        427\n",
       "Name: school_name, dtype: int64"
      ]
     },
     "execution_count": 40,
     "metadata": {},
     "output_type": "execute_result"
    }
   ],
   "source": [
    "# Find the school names\n",
    "school_data_complete[\"school_name\"]. value_counts()"
   ]
  },
  {
   "cell_type": "code",
   "execution_count": 41,
   "metadata": {},
   "outputs": [
    {
     "data": {
      "text/html": [
       "<div>\n",
       "<style scoped>\n",
       "    .dataframe tbody tr th:only-of-type {\n",
       "        vertical-align: middle;\n",
       "    }\n",
       "\n",
       "    .dataframe tbody tr th {\n",
       "        vertical-align: top;\n",
       "    }\n",
       "\n",
       "    .dataframe thead th {\n",
       "        text-align: right;\n",
       "    }\n",
       "</style>\n",
       "<table border=\"1\" class=\"dataframe\">\n",
       "  <thead>\n",
       "    <tr style=\"text-align: right;\">\n",
       "      <th></th>\n",
       "      <th>Student ID</th>\n",
       "      <th>student_name</th>\n",
       "      <th>gender</th>\n",
       "      <th>grade</th>\n",
       "      <th>school_name</th>\n",
       "      <th>reading_score</th>\n",
       "      <th>math_score</th>\n",
       "      <th>School ID</th>\n",
       "      <th>type</th>\n",
       "      <th>size</th>\n",
       "      <th>budget</th>\n",
       "    </tr>\n",
       "  </thead>\n",
       "  <tbody>\n",
       "    <tr>\n",
       "      <th>0</th>\n",
       "      <td>0</td>\n",
       "      <td>Paul Bradley</td>\n",
       "      <td>M</td>\n",
       "      <td>9th</td>\n",
       "      <td>Huang High School</td>\n",
       "      <td>66</td>\n",
       "      <td>79</td>\n",
       "      <td>0</td>\n",
       "      <td>District</td>\n",
       "      <td>2917</td>\n",
       "      <td>1910635</td>\n",
       "    </tr>\n",
       "    <tr>\n",
       "      <th>1</th>\n",
       "      <td>1</td>\n",
       "      <td>Victor Smith</td>\n",
       "      <td>M</td>\n",
       "      <td>12th</td>\n",
       "      <td>Huang High School</td>\n",
       "      <td>94</td>\n",
       "      <td>61</td>\n",
       "      <td>0</td>\n",
       "      <td>District</td>\n",
       "      <td>2917</td>\n",
       "      <td>1910635</td>\n",
       "    </tr>\n",
       "    <tr>\n",
       "      <th>2</th>\n",
       "      <td>2</td>\n",
       "      <td>Kevin Rodriguez</td>\n",
       "      <td>M</td>\n",
       "      <td>12th</td>\n",
       "      <td>Huang High School</td>\n",
       "      <td>90</td>\n",
       "      <td>60</td>\n",
       "      <td>0</td>\n",
       "      <td>District</td>\n",
       "      <td>2917</td>\n",
       "      <td>1910635</td>\n",
       "    </tr>\n",
       "    <tr>\n",
       "      <th>3</th>\n",
       "      <td>3</td>\n",
       "      <td>Dr. Richard Scott</td>\n",
       "      <td>M</td>\n",
       "      <td>12th</td>\n",
       "      <td>Huang High School</td>\n",
       "      <td>67</td>\n",
       "      <td>58</td>\n",
       "      <td>0</td>\n",
       "      <td>District</td>\n",
       "      <td>2917</td>\n",
       "      <td>1910635</td>\n",
       "    </tr>\n",
       "    <tr>\n",
       "      <th>4</th>\n",
       "      <td>4</td>\n",
       "      <td>Bonnie Ray</td>\n",
       "      <td>F</td>\n",
       "      <td>9th</td>\n",
       "      <td>Huang High School</td>\n",
       "      <td>97</td>\n",
       "      <td>84</td>\n",
       "      <td>0</td>\n",
       "      <td>District</td>\n",
       "      <td>2917</td>\n",
       "      <td>1910635</td>\n",
       "    </tr>\n",
       "    <tr>\n",
       "      <th>...</th>\n",
       "      <td>...</td>\n",
       "      <td>...</td>\n",
       "      <td>...</td>\n",
       "      <td>...</td>\n",
       "      <td>...</td>\n",
       "      <td>...</td>\n",
       "      <td>...</td>\n",
       "      <td>...</td>\n",
       "      <td>...</td>\n",
       "      <td>...</td>\n",
       "      <td>...</td>\n",
       "    </tr>\n",
       "    <tr>\n",
       "      <th>39165</th>\n",
       "      <td>39165</td>\n",
       "      <td>Donna Howard</td>\n",
       "      <td>F</td>\n",
       "      <td>12th</td>\n",
       "      <td>Thomas High School</td>\n",
       "      <td>99</td>\n",
       "      <td>90</td>\n",
       "      <td>14</td>\n",
       "      <td>Charter</td>\n",
       "      <td>1635</td>\n",
       "      <td>1043130</td>\n",
       "    </tr>\n",
       "    <tr>\n",
       "      <th>39166</th>\n",
       "      <td>39166</td>\n",
       "      <td>Dawn Bell</td>\n",
       "      <td>F</td>\n",
       "      <td>10th</td>\n",
       "      <td>Thomas High School</td>\n",
       "      <td>95</td>\n",
       "      <td>70</td>\n",
       "      <td>14</td>\n",
       "      <td>Charter</td>\n",
       "      <td>1635</td>\n",
       "      <td>1043130</td>\n",
       "    </tr>\n",
       "    <tr>\n",
       "      <th>39167</th>\n",
       "      <td>39167</td>\n",
       "      <td>Rebecca Tanner</td>\n",
       "      <td>F</td>\n",
       "      <td>9th</td>\n",
       "      <td>Thomas High School</td>\n",
       "      <td>73</td>\n",
       "      <td>84</td>\n",
       "      <td>14</td>\n",
       "      <td>Charter</td>\n",
       "      <td>1635</td>\n",
       "      <td>1043130</td>\n",
       "    </tr>\n",
       "    <tr>\n",
       "      <th>39168</th>\n",
       "      <td>39168</td>\n",
       "      <td>Desiree Kidd</td>\n",
       "      <td>F</td>\n",
       "      <td>10th</td>\n",
       "      <td>Thomas High School</td>\n",
       "      <td>99</td>\n",
       "      <td>90</td>\n",
       "      <td>14</td>\n",
       "      <td>Charter</td>\n",
       "      <td>1635</td>\n",
       "      <td>1043130</td>\n",
       "    </tr>\n",
       "    <tr>\n",
       "      <th>39169</th>\n",
       "      <td>39169</td>\n",
       "      <td>Carolyn Jackson</td>\n",
       "      <td>F</td>\n",
       "      <td>11th</td>\n",
       "      <td>Thomas High School</td>\n",
       "      <td>95</td>\n",
       "      <td>75</td>\n",
       "      <td>14</td>\n",
       "      <td>Charter</td>\n",
       "      <td>1635</td>\n",
       "      <td>1043130</td>\n",
       "    </tr>\n",
       "  </tbody>\n",
       "</table>\n",
       "<p>39170 rows × 11 columns</p>\n",
       "</div>"
      ],
      "text/plain": [
       "       Student ID       student_name gender grade         school_name  \\\n",
       "0               0       Paul Bradley      M   9th   Huang High School   \n",
       "1               1       Victor Smith      M  12th   Huang High School   \n",
       "2               2    Kevin Rodriguez      M  12th   Huang High School   \n",
       "3               3  Dr. Richard Scott      M  12th   Huang High School   \n",
       "4               4         Bonnie Ray      F   9th   Huang High School   \n",
       "...           ...                ...    ...   ...                 ...   \n",
       "39165       39165       Donna Howard      F  12th  Thomas High School   \n",
       "39166       39166          Dawn Bell      F  10th  Thomas High School   \n",
       "39167       39167     Rebecca Tanner      F   9th  Thomas High School   \n",
       "39168       39168       Desiree Kidd      F  10th  Thomas High School   \n",
       "39169       39169    Carolyn Jackson      F  11th  Thomas High School   \n",
       "\n",
       "       reading_score  math_score  School ID      type  size   budget  \n",
       "0                 66          79          0  District  2917  1910635  \n",
       "1                 94          61          0  District  2917  1910635  \n",
       "2                 90          60          0  District  2917  1910635  \n",
       "3                 67          58          0  District  2917  1910635  \n",
       "4                 97          84          0  District  2917  1910635  \n",
       "...              ...         ...        ...       ...   ...      ...  \n",
       "39165             99          90         14   Charter  1635  1043130  \n",
       "39166             95          70         14   Charter  1635  1043130  \n",
       "39167             73          84         14   Charter  1635  1043130  \n",
       "39168             99          90         14   Charter  1635  1043130  \n",
       "39169             95          75         14   Charter  1635  1043130  \n",
       "\n",
       "[39170 rows x 11 columns]"
      ]
     },
     "execution_count": 41,
     "metadata": {},
     "output_type": "execute_result"
    }
   ],
   "source": [
    "school_data_complete"
   ]
  },
  {
   "cell_type": "code",
   "execution_count": 42,
   "metadata": {},
   "outputs": [
    {
     "name": "stdout",
     "output_type": "stream",
     "text": [
      "15\n"
     ]
    }
   ],
   "source": [
    "total_school_1 = school_data_complete ['school_name'].nunique()\n",
    "print(total_school_1)"
   ]
  },
  {
   "cell_type": "code",
   "execution_count": 43,
   "metadata": {
    "scrolled": true
   },
   "outputs": [
    {
     "name": "stdout",
     "output_type": "stream",
     "text": [
      "32715\n"
     ]
    }
   ],
   "source": [
    "total_student_1 = school_data_complete ['student_name'].nunique()\n",
    "print(total_student_1)"
   ]
  },
  {
   "cell_type": "code",
   "execution_count": 44,
   "metadata": {},
   "outputs": [
    {
     "name": "stdout",
     "output_type": "stream",
     "text": [
      "82932329558\n"
     ]
    }
   ],
   "source": [
    "total_budget_1 = school_data_complete ['budget'].sum()\n",
    "print(total_budget_1)"
   ]
  },
  {
   "cell_type": "markdown",
   "metadata": {},
   "source": [
    "## District Summary\n",
    "\n",
    "* Calculate the total number of schools = Sweet\n",
    "\n",
    "* Calculate the total number of students = Sweet\n",
    "\n",
    "* Calculate the total budget = Sweet\n",
    "\n",
    "* Calculate the average math score = Sweet \n",
    "\n",
    "* Calculate the average reading score =Sweet\n",
    "\n",
    "* Calculate the percentage of students with a passing math score (70 or greater) = Sweet\n",
    "\n",
    "* Calculate the percentage of students with a passing reading score (70 or greater) = Sweet\n",
    "\n",
    "* Calculate the percentage of students who passed math **and** reading (% Overall Passing) =Sweet\n",
    "\n",
    "* Create a dataframe to hold the above results\n",
    "\n",
    "* Optional: give the displayed data cleaner formatting"
   ]
  },
  {
   "cell_type": "code",
   "execution_count": 45,
   "metadata": {},
   "outputs": [
    {
     "data": {
      "text/plain": [
       "39170"
      ]
     },
     "execution_count": 45,
     "metadata": {},
     "output_type": "execute_result"
    }
   ],
   "source": [
    "total_student = school_data_complete[\"student_name\"].count()\n",
    "(total_student)"
   ]
  },
  {
   "cell_type": "code",
   "execution_count": 46,
   "metadata": {},
   "outputs": [
    {
     "name": "stdout",
     "output_type": "stream",
     "text": [
      "78.98537145774827\n"
     ]
    }
   ],
   "source": [
    "average_math_score = school_data_complete[\"math_score\"].mean()\n",
    "print (average_math_score)"
   ]
  },
  {
   "cell_type": "code",
   "execution_count": 47,
   "metadata": {},
   "outputs": [
    {
     "name": "stdout",
     "output_type": "stream",
     "text": [
      "81.87784018381414\n"
     ]
    }
   ],
   "source": [
    "average_reading_score = school_data_complete[\"reading_score\"].mean()\n",
    "print (average_reading_score)"
   ]
  },
  {
   "cell_type": "code",
   "execution_count": 48,
   "metadata": {},
   "outputs": [
    {
     "name": "stdout",
     "output_type": "stream",
     "text": [
      "29370\n"
     ]
    }
   ],
   "source": [
    "math_pass = school_data_complete.loc[school_data_complete[\"math_score\"]>=70][\"math_score\"].count()\n",
    "print (math_pass)"
   ]
  },
  {
   "cell_type": "code",
   "execution_count": 49,
   "metadata": {
    "scrolled": true
   },
   "outputs": [
    {
     "name": "stdout",
     "output_type": "stream",
     "text": [
      "0.749808526933878\n"
     ]
    }
   ],
   "source": [
    "math_p = math_pass/total_student\n",
    "print (math_p)"
   ]
  },
  {
   "cell_type": "code",
   "execution_count": 50,
   "metadata": {
    "scrolled": true
   },
   "outputs": [
    {
     "name": "stdout",
     "output_type": "stream",
     "text": [
      "33610\n"
     ]
    }
   ],
   "source": [
    "reading_pass = school_data_complete.loc[school_data_complete[\"reading_score\"]>=70][\"reading_score\"].count()\n",
    "print (reading_pass)"
   ]
  },
  {
   "cell_type": "code",
   "execution_count": 51,
   "metadata": {},
   "outputs": [
    {
     "name": "stdout",
     "output_type": "stream",
     "text": [
      "0.8580546336482001\n"
     ]
    }
   ],
   "source": [
    " reading_p = reading_pass/total_student\n",
    "print (reading_p)"
   ]
  },
  {
   "cell_type": "code",
   "execution_count": 52,
   "metadata": {
    "scrolled": true
   },
   "outputs": [
    {
     "name": "stdout",
     "output_type": "stream",
     "text": [
      "0.8039315802910391\n"
     ]
    }
   ],
   "source": [
    "overall_p = (math_p+reading_p)/2\n",
    "print(overall_p)"
   ]
  },
  {
   "cell_type": "code",
   "execution_count": 53,
   "metadata": {},
   "outputs": [],
   "source": [
    "district_synopsis = pd.DataFrame({\"Total Schools\": [total_school_1], \"Total Students\":[total_student_1], \n",
    "                                   \"Total Budget\":[total_budget_1], \"Average Math Score\":[math_p], \n",
    "                                   \"Average Reading Score\":[reading_p], \"% Passing Math\" :[average_math_score],\n",
    "                                   \"% Passing Reading\": [average_reading_score], \"% Overall Passing\": [overall_p]})\n",
    "\n",
    "district_synopsis[\"Total Students\"] = district_synopsis[\"Total Students\"].map(\"{:,}\".format)\n",
    "district_synopsis[\"Total Budget\"] = district_synopsis[\"Total Budget\"].map(\"${:.2f}\".format)\n",
    "district_synopsis[\"Average Math Score\"] = district_synopsis[\"Average Math Score\"]*100\n",
    "district_synopsis[\"Average Math Score\"] = district_synopsis[\"Average Math Score\"].map(\"%{:.2f}\".format)\n",
    "district_synopsis[\"Average Reading Score\"] = district_synopsis[\"Average Reading Score\"]*100\n",
    "district_synopsis[\"Average Reading Score\"] = district_synopsis[\"Average Reading Score\"].map(\"%{:.2f}\".format)\n",
    "district_synopsis[\"% Passing Math\"] = district_synopsis[\"% Passing Math\"].map(\"%{:.2f}\".format)\n",
    "district_synopsis[\"% Passing Reading\"] = district_synopsis[\"% Passing Reading\"].map(\"%{:.2f}\".format)\n",
    "district_synopsis[\"% Overall Passing\"] = district_synopsis[\"% Overall Passing\"]*100\n",
    "district_synopsis[\"% Overall Passing\"] = district_synopsis[\"% Overall Passing\"].map(\"%{:.2f}\".format)"
   ]
  },
  {
   "cell_type": "markdown",
   "metadata": {},
   "source": [
    "## School Summary"
   ]
  },
  {
   "cell_type": "markdown",
   "metadata": {},
   "source": [
    "* Create an overview table that summarizes key metrics about each school, including:\n",
    "  * School Name\n",
    "  * School Type\n",
    "  * Total Students\n",
    "  * Total School Budget\n",
    "  * Per Student Budget\n",
    "  * Average Math Score\n",
    "  * Average Reading Score\n",
    "  * % Passing Math\n",
    "  * % Passing Reading\n",
    "  * % Overall Passing (The percentage of students that passed math **and** reading.)\n",
    "  \n",
    "* Create a dataframe to hold the above results"
   ]
  },
  {
   "cell_type": "code",
   "execution_count": 84,
   "metadata": {},
   "outputs": [],
   "source": [
    "school_names = school_data_complete.set_index(\"school_name\").groupby([\"school_name\"])"
   ]
  },
  {
   "cell_type": "code",
   "execution_count": 85,
   "metadata": {
    "scrolled": true
   },
   "outputs": [
    {
     "data": {
      "text/plain": [
       "school_name\n",
       "Huang High School        District\n",
       "Figueroa High School     District\n",
       "Shelton High School       Charter\n",
       "Hernandez High School    District\n",
       "Griffin High School       Charter\n",
       "Wilson High School        Charter\n",
       "Cabrera High School       Charter\n",
       "Bailey High School       District\n",
       "Holden High School        Charter\n",
       "Pena High School          Charter\n",
       "Wright High School        Charter\n",
       "Rodriguez High School    District\n",
       "Johnson High School      District\n",
       "Ford High School         District\n",
       "Thomas High School        Charter\n",
       "Name: type, dtype: object"
      ]
     },
     "execution_count": 85,
     "metadata": {},
     "output_type": "execute_result"
    }
   ],
   "source": [
    "ty_schools= school_data.set_index(\"school_name\")['type']\n",
    "ty_schools"
   ]
  },
  {
   "cell_type": "code",
   "execution_count": 87,
   "metadata": {},
   "outputs": [
    {
     "data": {
      "text/plain": [
       "school_name\n",
       "Bailey High School       4976\n",
       "Cabrera High School      1858\n",
       "Figueroa High School     2949\n",
       "Ford High School         2739\n",
       "Griffin High School      1468\n",
       "Hernandez High School    4635\n",
       "Holden High School        427\n",
       "Huang High School        2917\n",
       "Johnson High School      4761\n",
       "Pena High School          962\n",
       "Rodriguez High School    3999\n",
       "Shelton High School      1761\n",
       "Thomas High School       1635\n",
       "Wilson High School       2283\n",
       "Wright High School       1800\n",
       "Name: Student ID, dtype: int64"
      ]
     },
     "execution_count": 87,
     "metadata": {},
     "output_type": "execute_result"
    }
   ],
   "source": [
    "t_student= school_names['Student ID'].count()\n",
    "t_student"
   ]
  },
  {
   "cell_type": "code",
   "execution_count": 295,
   "metadata": {
    "scrolled": true
   },
   "outputs": [],
   "source": [
    "t_budget = school_data.set_index('school_name')[\"budget\"]\n",
    "#t_budget"
   ]
  },
  {
   "cell_type": "code",
   "execution_count": 294,
   "metadata": {},
   "outputs": [],
   "source": [
    "t_budget_student = school_data.set_index(\"school_name\")[\"budget\"]/school_data.set_index(\"school_name\")[\"size\"]\n",
    "#t_budget_student"
   ]
  },
  {
   "cell_type": "code",
   "execution_count": 293,
   "metadata": {},
   "outputs": [],
   "source": [
    "a_math = school_names['math_score'].mean()\n",
    "#a_math"
   ]
  },
  {
   "cell_type": "code",
   "execution_count": 292,
   "metadata": {},
   "outputs": [],
   "source": [
    "a_reading = school_names['reading_score'].mean()\n",
    "#a_reading"
   ]
  },
  {
   "cell_type": "code",
   "execution_count": 291,
   "metadata": {},
   "outputs": [],
   "source": [
    "s_pass_math = school_data_complete[school_data_complete['math_score']>=70].groupby(['school_name']).size()\n",
    "s_pass_math = (s_pass_math/t_student)\n",
    "#s_pass_math"
   ]
  },
  {
   "cell_type": "code",
   "execution_count": 92,
   "metadata": {},
   "outputs": [],
   "source": [
    "s_pass_read = school_data_complete[school_data_complete['reading_score']>=70].groupby(['school_name']).size()\n",
    "s_pass_read = (s_pass_read/t_student)\n",
    "#s_pass_read"
   ]
  },
  {
   "cell_type": "code",
   "execution_count": 93,
   "metadata": {},
   "outputs": [],
   "source": [
    "o_pass = (s_pass_math + s_pass_read)/2\n",
    "#o_pass"
   ]
  },
  {
   "cell_type": "code",
   "execution_count": 289,
   "metadata": {},
   "outputs": [],
   "source": [
    "summ_by_school = pd.DataFrame({\"School Type\": ty_schools, \"Total Students\":t_student, \n",
    "                               \"Total School Budget\": t_budget, \"Per Student Budget\": t_budget_student,\n",
    "                               \"Average Math Score\": a_math, \"Average Reading Score\": \n",
    "                               a_reading, \"Percent Passing Math\": s_pass_math, \n",
    "                               \"Percentage Passing Reading\": s_pass_read, \"Overall Passing Rate\": o_pass})\n",
    "\n",
    "summ_by_school[\"Total School Budget\"] = summ_by_school[\"Total School Budget\"].map(\"${:.2f}\".format)\n",
    "summ_by_school[\"Per Student Budget\"] = summ_by_school[\"Per Student Budget\"].map(\"${:.2f}\".format)\n",
    "summ_by_school[\"Average Math Score\"] = summ_by_school[\"Average Math Score\"].map(\"%{:.2f}\".format)\n",
    "summ_by_school[\"Average Reading Score\"] = summ_by_school[\"Average Reading Score\"].map(\"%{:.2f}\".format)\n",
    "summ_by_school[\"Percent Passing Math\"] = summ_by_school[\"Percent Passing Math\"]*100\n",
    "summ_by_school[\"Percent Passing Math\"] = summ_by_school[\"Percent Passing Math\"].map(\"%{:.2f}\".format)\n",
    "summ_by_school[\"Percentage Passing Reading\"] = summ_by_school[\"Percentage Passing Reading\"]*100\n",
    "summ_by_school[\"Percentage Passing Reading\"] = summ_by_school[\"Percentage Passing Reading\"].map(\"%{:.2f}\".format)\n",
    "summ_by_school[\"Overall Passing Rate\"] = summ_by_school[\"Overall Passing Rate\"]*100\n",
    "summ_by_school[\"Overall Passing Rate\"] = summ_by_school[\"Overall Passing Rate\"].map(\"%{:.2f}\".format)\n",
    "\n",
    "#summ_by_school"
   ]
  },
  {
   "cell_type": "markdown",
   "metadata": {},
   "source": [
    "## Top Performing Schools (By % Overall Passing)"
   ]
  },
  {
   "cell_type": "markdown",
   "metadata": {},
   "source": [
    "* Sort and display the top five performing schools by % overall passing."
   ]
  },
  {
   "cell_type": "code",
   "execution_count": 290,
   "metadata": {
    "scrolled": true
   },
   "outputs": [],
   "source": [
    "top_5 = summ_by_school.sort_values(by=['Overall Passing Rate'], ascending=False)\n",
    "#top_5. head(5)"
   ]
  },
  {
   "cell_type": "markdown",
   "metadata": {},
   "source": [
    "## Bottom Performing Schools (By % Overall Passing)"
   ]
  },
  {
   "cell_type": "markdown",
   "metadata": {},
   "source": [
    "* Sort and display the five worst-performing schools by % overall passing."
   ]
  },
  {
   "cell_type": "code",
   "execution_count": 288,
   "metadata": {},
   "outputs": [],
   "source": [
    "bottom_5 = summ_by_school.sort_values(by=[\"Overall Passing Rate\"])\n",
    "#bottom_5.head()"
   ]
  },
  {
   "cell_type": "markdown",
   "metadata": {
    "collapsed": true
   },
   "source": [
    "## Math Scores by Grade"
   ]
  },
  {
   "cell_type": "markdown",
   "metadata": {},
   "source": [
    "* Create a table that lists the average Reading Score for students of each grade level (9th, 10th, 11th, 12th) at each school.\n",
    "\n",
    "  * Create a pandas series for each grade. Hint: use a conditional statement.\n",
    "  \n",
    "  * Group each series by school\n",
    "  \n",
    "  * Combine the series into a dataframe\n",
    "  \n",
    "  * Optional: give the displayed data cleaner formatting"
   ]
  },
  {
   "cell_type": "code",
   "execution_count": 216,
   "metadata": {},
   "outputs": [],
   "source": [
    "nine = student_data.loc[student_data[\"grade\"] == \"9th\"].groupby(\"school_name\")[\"math_score\"].mean()\n",
    "ten = student_data.loc[student_data[\"grade\"] == \"10th\"].groupby(\"school_name\")[\"math_score\"].mean()\n",
    "eleven = student_data.loc[student_data[\"grade\"] == \"11th\"].groupby(\"school_name\")[\"math_score\"].mean()\n",
    "twelve = student_data.loc[student_data[\"grade\"] == \"11th\"].groupby(\"school_name\")[\"math_score\"].mean()\n"
   ]
  },
  {
   "cell_type": "code",
   "execution_count": 287,
   "metadata": {},
   "outputs": [],
   "source": [
    "total_math_grade = pd.DataFrame({\"9th\": nine, \"10th\": ten, \"11th\": eleven, \"12th\": twelve})\n",
    "total_math_grade[\"9th\"] = total_math_grade[\"9th\"].map(\"%{:.2f}\".format)\n",
    "total_math_grade[\"10th\"] = total_math_grade[\"10th\"].map(\"%{:.2f}\".format)\n",
    "total_math_grade[\"11th\"] = total_math_grade[\"11th\"].map(\"%{:.2f}\".format)\n",
    "total_math_grade[\"12th\"] = total_math_grade[\"12th\"].map(\"%{:.2f}\".format)\n",
    "#total_math_grade"
   ]
  },
  {
   "cell_type": "markdown",
   "metadata": {},
   "source": [
    "## Reading Score by Grade "
   ]
  },
  {
   "cell_type": "markdown",
   "metadata": {},
   "source": [
    "* Perform the same operations as above for reading scores"
   ]
  },
  {
   "cell_type": "code",
   "execution_count": 286,
   "metadata": {},
   "outputs": [],
   "source": [
    "nine = student_data.loc[student_data[\"grade\"] == \"9th\"].groupby(\"school_name\")[\"reading_score\"].mean()\n",
    "ten = student_data.loc[student_data[\"grade\"] == \"10th\"].groupby(\"school_name\")[\"reading_score\"].mean()\n",
    "eleven = student_data.loc[student_data[\"grade\"] == \"11th\"].groupby(\"school_name\")[\"reading_score\"].mean()\n",
    "twelve = student_data.loc[student_data[\"grade\"] == \"11th\"].groupby(\"school_name\")[\"reading_score\"].mean()\n",
    "\n",
    "total_reading = pd.DataFrame({\"9th\": nine, \"10th\": ten, \"11th\": eleven, \"12th\": twelve})\n",
    "total_reading[\"9th\"] = total_reading[\"9th\"].map(\"%{:.2f}\".format)\n",
    "total_reading[\"10th\"] = total_reading[\"10th\"].map(\"%{:.2f}\".format)\n",
    "total_reading[\"11th\"] = total_reading[\"11th\"].map(\"%{:.2f}\".format)\n",
    "total_reading[\"12th\"] = total_reading[\"12th\"].map(\"%{:.2f}\".format)\n",
    "#total_reading\n"
   ]
  },
  {
   "cell_type": "markdown",
   "metadata": {},
   "source": [
    "## Scores by School Spending"
   ]
  },
  {
   "cell_type": "markdown",
   "metadata": {},
   "source": [
    "* Create a table that breaks down school performances based on average Spending Ranges (Per Student). Use 4 reasonable bins to group school spending. Include in the table each of the following:\n",
    "  * Average Math Score\n",
    "  * Average Reading Score\n",
    "  * % Passing Math\n",
    "  * % Passing Reading\n",
    "  * Overall Passing Rate (Average of the above two)"
   ]
  },
  {
   "cell_type": "code",
   "execution_count": 204,
   "metadata": {},
   "outputs": [],
   "source": [
    "# Use this Information to collect accurate Bins\n",
    "t_budget_student"
   ]
  },
  {
   "cell_type": "code",
   "execution_count": null,
   "metadata": {},
   "outputs": [],
   "source": [
    "# Use Describe function to find quartile range\n",
    "t_budget_student.describe()\n",
    "s_bins = [0,578,600,637,655]\n",
    "bin_labels = ['$0-578', '$579-600', '$601-637', '$638-655']"
   ]
  },
  {
   "cell_type": "code",
   "execution_count": 205,
   "metadata": {},
   "outputs": [],
   "source": [
    "#segement and sort data Values in Bins\n",
    "school_data_complete[\"s_bins\"] = pd.cut(school_data_complete[\"budget\"]/school_data_complete[\"size\"], s_bins, labels =\n",
    "                                        bin_labels)\n"
   ]
  },
  {
   "cell_type": "code",
   "execution_count": 206,
   "metadata": {},
   "outputs": [],
   "source": [
    "#Group the spending bins together\n",
    "grouped_s = school_data_complete.groupby(\"s_bins\")"
   ]
  },
  {
   "cell_type": "code",
   "execution_count": 284,
   "metadata": {},
   "outputs": [],
   "source": [
    "# combine the group with Average Math Score\n",
    "math_a = grouped_s[\"math_score\"].mean()\n",
    "#math_a"
   ]
  },
  {
   "cell_type": "code",
   "execution_count": 285,
   "metadata": {},
   "outputs": [],
   "source": [
    "#combine the group with Average Reading Score\n",
    "r_avg = grouped_s[\"reading_score\"].mean()\n",
    "#r_avg"
   ]
  },
  {
   "cell_type": "code",
   "execution_count": 186,
   "metadata": {},
   "outputs": [],
   "source": [
    "#Combine the %Passing reading with the group\n",
    "Percent_passing_m = school_data_complete[school_data_complete[\"math_score\"] >=70].groupby(\"s_bins\")[\"Student ID\"].count()/grouped_s[\"Student ID\"].count()"
   ]
  },
  {
   "cell_type": "code",
   "execution_count": 187,
   "metadata": {},
   "outputs": [],
   "source": [
    "#Combine the %Passing reading with the group\n",
    "Percent_passing_reading = school_data_complete[school_data_complete[\"reading_score\"] >=70].groupby(\"s_bins\")[\"Student ID\"].count()/grouped_s[\"Student ID\"].count()"
   ]
  },
  {
   "cell_type": "code",
   "execution_count": 272,
   "metadata": {},
   "outputs": [],
   "source": [
    "# lastly, overall passing\n",
    "over_pass = (Percent_passing_m + Percent_passing_m)/2\n",
    "#over_pass"
   ]
  },
  {
   "cell_type": "code",
   "execution_count": 273,
   "metadata": {},
   "outputs": [],
   "source": [
    "#place the results in a data Frame\n",
    "spend_per_school = pd.DataFrame({\"Average Math Score\": math_a, \"Average Reading Score\": r_avg, \"% Passing Math\": Percent_passing_m,\n",
    "                                \"% Passing Reading\": Percent_passing_reading, \"Overall Passing Rate\": over_pass})"
   ]
  },
  {
   "cell_type": "code",
   "execution_count": 274,
   "metadata": {},
   "outputs": [],
   "source": [
    "spend_per_school[\"Average Math Score\"] = spend_per_school[\"Average Math Score\"].map(\"%{:.2f}\".format)\n",
    "spend_per_school[\"Average Reading Score\"] = spend_per_school[\"Average Reading Score\"].map(\"%{:.2f}\".format)\n",
    "spend_per_school[\"% Passing Math\"] = spend_per_school[\"% Passing Math\"]*100\n",
    "spend_per_school[\"% Passing Math\"] = spend_per_school[\"% Passing Math\"].map(\"%{:.2f}\".format)\n",
    "spend_per_school[\"% Passing Reading\"] = spend_per_school[\"% Passing Reading\"]*100\n",
    "spend_per_school[\"% Passing Reading\"] = spend_per_school[\"% Passing Reading\"].map(\"%{:.2f}\".format)\n",
    "spend_per_school[\"Overall Passing Rate\"] = spend_per_school[\"Overall Passing Rate\"]*100\n",
    "spend_per_school[\"Overall Passing Rate\"] = spend_per_school[\"Overall Passing Rate\"].map(\"%{:.2f}\".format)\n",
    "#spend_per_school"
   ]
  },
  {
   "cell_type": "markdown",
   "metadata": {},
   "source": [
    "## Scores by School Size"
   ]
  },
  {
   "cell_type": "markdown",
   "metadata": {},
   "source": [
    "* Perform the same operations as above, based on school size."
   ]
  },
  {
   "cell_type": "code",
   "execution_count": 275,
   "metadata": {
    "scrolled": true
   },
   "outputs": [],
   "source": [
    "size_bins = [0,1000,2000,5000]\n",
    "bin_labels_2 = [\"Small (<1000)\", \"Medium (<1000)\", \"Large (2000-5000)\"]"
   ]
  },
  {
   "cell_type": "code",
   "execution_count": 276,
   "metadata": {},
   "outputs": [],
   "source": [
    "school_data_complete[\"size_bins\"] = pd.cut(school_data_complete[\"size\"], size_bins, labels = bin_labels_2)"
   ]
  },
  {
   "cell_type": "code",
   "execution_count": 277,
   "metadata": {},
   "outputs": [],
   "source": [
    "grouped_size = school_data_complete.groupby(\"size_bins\")"
   ]
  },
  {
   "cell_type": "code",
   "execution_count": 278,
   "metadata": {},
   "outputs": [],
   "source": [
    "#combine the group with Average Math Score\n",
    "math_a_2 = grouped_size[\"math_score\"].mean()\n",
    "#math_a_2"
   ]
  },
  {
   "cell_type": "code",
   "execution_count": 279,
   "metadata": {},
   "outputs": [],
   "source": [
    "#combine the group with Average Reading Score\n",
    "r_avg_2 = grouped_size[\"reading_score\"].mean()\n",
    "#r_avg_2"
   ]
  },
  {
   "cell_type": "code",
   "execution_count": 280,
   "metadata": {},
   "outputs": [],
   "source": [
    "#Combine the %Passing math with the group\n",
    "Percent_passing_m_2 = school_data_complete[school_data_complete[\"math_score\"] >=70].groupby(\"size_bins\")[\"Student ID\"].count()/grouped_size[\"Student ID\"].count()*100\n",
    "#Percent_passing_m_2"
   ]
  },
  {
   "cell_type": "code",
   "execution_count": 281,
   "metadata": {},
   "outputs": [],
   "source": [
    "#Combine the %Passing reading with the group\n",
    "Percent_passing_reading_2 = school_data_complete[school_data_complete[\"reading_score\"] >=70].groupby(\"size_bins\")[\"Student ID\"].count()/grouped_size[\"Student ID\"].count()*100\n",
    "#Percent_passing_m_2"
   ]
  },
  {
   "cell_type": "code",
   "execution_count": 282,
   "metadata": {
    "scrolled": true
   },
   "outputs": [],
   "source": [
    "# lastly, overall passing\n",
    "over_pass_2 = (Percent_passing_m_2 + Percent_passing_m_2)/2\n",
    "#over_pass_2"
   ]
  },
  {
   "cell_type": "code",
   "execution_count": 298,
   "metadata": {},
   "outputs": [],
   "source": [
    "#Create the datafram\n",
    "size_per_school = pd.DataFrame({\"Average Math Score\": math_a_2, \"Average Reading Score\": r_avg_2, \"% Passing Math\": Percent_passing_m_2,\"% Passing Reading\": Percent_passing_reading_2, \"Overall Passing Rate\": over_pass_2})\n",
    "#size_per_school"
   ]
  },
  {
   "cell_type": "markdown",
   "metadata": {},
   "source": [
    "## Scores by School Type"
   ]
  },
  {
   "cell_type": "markdown",
   "metadata": {},
   "source": [
    "* Perform the same operations as above, based on school type"
   ]
  },
  {
   "cell_type": "code",
   "execution_count": 304,
   "metadata": {
    "scrolled": true
   },
   "outputs": [
    {
     "data": {
      "text/html": [
       "<div>\n",
       "<style scoped>\n",
       "    .dataframe tbody tr th:only-of-type {\n",
       "        vertical-align: middle;\n",
       "    }\n",
       "\n",
       "    .dataframe tbody tr th {\n",
       "        vertical-align: top;\n",
       "    }\n",
       "\n",
       "    .dataframe thead th {\n",
       "        text-align: right;\n",
       "    }\n",
       "</style>\n",
       "<table border=\"1\" class=\"dataframe\">\n",
       "  <thead>\n",
       "    <tr style=\"text-align: right;\">\n",
       "      <th></th>\n",
       "      <th>Student ID</th>\n",
       "      <th>student_name</th>\n",
       "      <th>gender</th>\n",
       "      <th>grade</th>\n",
       "      <th>school_name</th>\n",
       "      <th>reading_score</th>\n",
       "      <th>math_score</th>\n",
       "      <th>School ID</th>\n",
       "      <th>type</th>\n",
       "      <th>size</th>\n",
       "      <th>budget</th>\n",
       "      <th>s_bins</th>\n",
       "      <th>size_bins</th>\n",
       "    </tr>\n",
       "  </thead>\n",
       "  <tbody>\n",
       "    <tr>\n",
       "      <th>0</th>\n",
       "      <td>0</td>\n",
       "      <td>Paul Bradley</td>\n",
       "      <td>M</td>\n",
       "      <td>9th</td>\n",
       "      <td>Huang High School</td>\n",
       "      <td>66</td>\n",
       "      <td>79</td>\n",
       "      <td>0</td>\n",
       "      <td>District</td>\n",
       "      <td>2917</td>\n",
       "      <td>1910635</td>\n",
       "      <td>$638-655</td>\n",
       "      <td>Large (2000-5000)</td>\n",
       "    </tr>\n",
       "    <tr>\n",
       "      <th>1</th>\n",
       "      <td>1</td>\n",
       "      <td>Victor Smith</td>\n",
       "      <td>M</td>\n",
       "      <td>12th</td>\n",
       "      <td>Huang High School</td>\n",
       "      <td>94</td>\n",
       "      <td>61</td>\n",
       "      <td>0</td>\n",
       "      <td>District</td>\n",
       "      <td>2917</td>\n",
       "      <td>1910635</td>\n",
       "      <td>$638-655</td>\n",
       "      <td>Large (2000-5000)</td>\n",
       "    </tr>\n",
       "    <tr>\n",
       "      <th>2</th>\n",
       "      <td>2</td>\n",
       "      <td>Kevin Rodriguez</td>\n",
       "      <td>M</td>\n",
       "      <td>12th</td>\n",
       "      <td>Huang High School</td>\n",
       "      <td>90</td>\n",
       "      <td>60</td>\n",
       "      <td>0</td>\n",
       "      <td>District</td>\n",
       "      <td>2917</td>\n",
       "      <td>1910635</td>\n",
       "      <td>$638-655</td>\n",
       "      <td>Large (2000-5000)</td>\n",
       "    </tr>\n",
       "    <tr>\n",
       "      <th>3</th>\n",
       "      <td>3</td>\n",
       "      <td>Dr. Richard Scott</td>\n",
       "      <td>M</td>\n",
       "      <td>12th</td>\n",
       "      <td>Huang High School</td>\n",
       "      <td>67</td>\n",
       "      <td>58</td>\n",
       "      <td>0</td>\n",
       "      <td>District</td>\n",
       "      <td>2917</td>\n",
       "      <td>1910635</td>\n",
       "      <td>$638-655</td>\n",
       "      <td>Large (2000-5000)</td>\n",
       "    </tr>\n",
       "    <tr>\n",
       "      <th>4</th>\n",
       "      <td>4</td>\n",
       "      <td>Bonnie Ray</td>\n",
       "      <td>F</td>\n",
       "      <td>9th</td>\n",
       "      <td>Huang High School</td>\n",
       "      <td>97</td>\n",
       "      <td>84</td>\n",
       "      <td>0</td>\n",
       "      <td>District</td>\n",
       "      <td>2917</td>\n",
       "      <td>1910635</td>\n",
       "      <td>$638-655</td>\n",
       "      <td>Large (2000-5000)</td>\n",
       "    </tr>\n",
       "    <tr>\n",
       "      <th>...</th>\n",
       "      <td>...</td>\n",
       "      <td>...</td>\n",
       "      <td>...</td>\n",
       "      <td>...</td>\n",
       "      <td>...</td>\n",
       "      <td>...</td>\n",
       "      <td>...</td>\n",
       "      <td>...</td>\n",
       "      <td>...</td>\n",
       "      <td>...</td>\n",
       "      <td>...</td>\n",
       "      <td>...</td>\n",
       "      <td>...</td>\n",
       "    </tr>\n",
       "    <tr>\n",
       "      <th>39165</th>\n",
       "      <td>39165</td>\n",
       "      <td>Donna Howard</td>\n",
       "      <td>F</td>\n",
       "      <td>12th</td>\n",
       "      <td>Thomas High School</td>\n",
       "      <td>99</td>\n",
       "      <td>90</td>\n",
       "      <td>14</td>\n",
       "      <td>Charter</td>\n",
       "      <td>1635</td>\n",
       "      <td>1043130</td>\n",
       "      <td>$638-655</td>\n",
       "      <td>Medium (&lt;1000)</td>\n",
       "    </tr>\n",
       "    <tr>\n",
       "      <th>39166</th>\n",
       "      <td>39166</td>\n",
       "      <td>Dawn Bell</td>\n",
       "      <td>F</td>\n",
       "      <td>10th</td>\n",
       "      <td>Thomas High School</td>\n",
       "      <td>95</td>\n",
       "      <td>70</td>\n",
       "      <td>14</td>\n",
       "      <td>Charter</td>\n",
       "      <td>1635</td>\n",
       "      <td>1043130</td>\n",
       "      <td>$638-655</td>\n",
       "      <td>Medium (&lt;1000)</td>\n",
       "    </tr>\n",
       "    <tr>\n",
       "      <th>39167</th>\n",
       "      <td>39167</td>\n",
       "      <td>Rebecca Tanner</td>\n",
       "      <td>F</td>\n",
       "      <td>9th</td>\n",
       "      <td>Thomas High School</td>\n",
       "      <td>73</td>\n",
       "      <td>84</td>\n",
       "      <td>14</td>\n",
       "      <td>Charter</td>\n",
       "      <td>1635</td>\n",
       "      <td>1043130</td>\n",
       "      <td>$638-655</td>\n",
       "      <td>Medium (&lt;1000)</td>\n",
       "    </tr>\n",
       "    <tr>\n",
       "      <th>39168</th>\n",
       "      <td>39168</td>\n",
       "      <td>Desiree Kidd</td>\n",
       "      <td>F</td>\n",
       "      <td>10th</td>\n",
       "      <td>Thomas High School</td>\n",
       "      <td>99</td>\n",
       "      <td>90</td>\n",
       "      <td>14</td>\n",
       "      <td>Charter</td>\n",
       "      <td>1635</td>\n",
       "      <td>1043130</td>\n",
       "      <td>$638-655</td>\n",
       "      <td>Medium (&lt;1000)</td>\n",
       "    </tr>\n",
       "    <tr>\n",
       "      <th>39169</th>\n",
       "      <td>39169</td>\n",
       "      <td>Carolyn Jackson</td>\n",
       "      <td>F</td>\n",
       "      <td>11th</td>\n",
       "      <td>Thomas High School</td>\n",
       "      <td>95</td>\n",
       "      <td>75</td>\n",
       "      <td>14</td>\n",
       "      <td>Charter</td>\n",
       "      <td>1635</td>\n",
       "      <td>1043130</td>\n",
       "      <td>$638-655</td>\n",
       "      <td>Medium (&lt;1000)</td>\n",
       "    </tr>\n",
       "  </tbody>\n",
       "</table>\n",
       "<p>39170 rows × 13 columns</p>\n",
       "</div>"
      ],
      "text/plain": [
       "       Student ID       student_name gender grade         school_name  \\\n",
       "0               0       Paul Bradley      M   9th   Huang High School   \n",
       "1               1       Victor Smith      M  12th   Huang High School   \n",
       "2               2    Kevin Rodriguez      M  12th   Huang High School   \n",
       "3               3  Dr. Richard Scott      M  12th   Huang High School   \n",
       "4               4         Bonnie Ray      F   9th   Huang High School   \n",
       "...           ...                ...    ...   ...                 ...   \n",
       "39165       39165       Donna Howard      F  12th  Thomas High School   \n",
       "39166       39166          Dawn Bell      F  10th  Thomas High School   \n",
       "39167       39167     Rebecca Tanner      F   9th  Thomas High School   \n",
       "39168       39168       Desiree Kidd      F  10th  Thomas High School   \n",
       "39169       39169    Carolyn Jackson      F  11th  Thomas High School   \n",
       "\n",
       "       reading_score  math_score  School ID      type  size   budget  \\\n",
       "0                 66          79          0  District  2917  1910635   \n",
       "1                 94          61          0  District  2917  1910635   \n",
       "2                 90          60          0  District  2917  1910635   \n",
       "3                 67          58          0  District  2917  1910635   \n",
       "4                 97          84          0  District  2917  1910635   \n",
       "...              ...         ...        ...       ...   ...      ...   \n",
       "39165             99          90         14   Charter  1635  1043130   \n",
       "39166             95          70         14   Charter  1635  1043130   \n",
       "39167             73          84         14   Charter  1635  1043130   \n",
       "39168             99          90         14   Charter  1635  1043130   \n",
       "39169             95          75         14   Charter  1635  1043130   \n",
       "\n",
       "         s_bins          size_bins  \n",
       "0      $638-655  Large (2000-5000)  \n",
       "1      $638-655  Large (2000-5000)  \n",
       "2      $638-655  Large (2000-5000)  \n",
       "3      $638-655  Large (2000-5000)  \n",
       "4      $638-655  Large (2000-5000)  \n",
       "...         ...                ...  \n",
       "39165  $638-655     Medium (<1000)  \n",
       "39166  $638-655     Medium (<1000)  \n",
       "39167  $638-655     Medium (<1000)  \n",
       "39168  $638-655     Medium (<1000)  \n",
       "39169  $638-655     Medium (<1000)  \n",
       "\n",
       "[39170 rows x 13 columns]"
      ]
     },
     "execution_count": 304,
     "metadata": {},
     "output_type": "execute_result"
    }
   ],
   "source": [
    "#Create a dataframe\n",
    "score_s_t=pd.DataFrame(school_data_complete)\n",
    "score_s_t"
   ]
  },
  {
   "cell_type": "code",
   "execution_count": 317,
   "metadata": {},
   "outputs": [],
   "source": [
    "# Group it by type\n",
    "score_s_t = school_data_complete.groupby(\"type\")"
   ]
  },
  {
   "cell_type": "code",
   "execution_count": 318,
   "metadata": {},
   "outputs": [],
   "source": [
    "# combine the group with Average Math Score\n",
    "math_avg = score_s_t[\"math_score\"].mean()\n",
    "#math_avg"
   ]
  },
  {
   "cell_type": "code",
   "execution_count": 319,
   "metadata": {},
   "outputs": [],
   "source": [
    "#combine the group with Average Reading Score\n",
    "read_avg = score_s_t[\"reading_score\"].mean()\n",
    "#read_avg"
   ]
  },
  {
   "cell_type": "code",
   "execution_count": 324,
   "metadata": {},
   "outputs": [],
   "source": [
    "#Combine the %Passing math with the group\n",
    "Percent_passing_avg = school_data_complete[school_data_complete[\"math_score\"] >=70].groupby(\"type\")[\"Student ID\"].count()/score_s_t[\"Student ID\"].count()*100\n",
    "#Percent_passing_avg"
   ]
  },
  {
   "cell_type": "code",
   "execution_count": 325,
   "metadata": {},
   "outputs": [
    {
     "data": {
      "text/plain": [
       "type\n",
       "Charter     96.645891\n",
       "District    80.905249\n",
       "Name: Student ID, dtype: float64"
      ]
     },
     "execution_count": 325,
     "metadata": {},
     "output_type": "execute_result"
    }
   ],
   "source": [
    "#Combine the %Passing math with the group\n",
    "Percent_passing_read = school_data_complete[school_data_complete[\"reading_score\"] >=70].groupby(\"type\")[\"Student ID\"].count()/score_s_t[\"Student ID\"].count()*100\n",
    "Percent_passing_read"
   ]
  },
  {
   "cell_type": "code",
   "execution_count": 326,
   "metadata": {},
   "outputs": [
    {
     "data": {
      "text/plain": [
       "type\n",
       "Charter     95.173856\n",
       "District    73.711818\n",
       "Name: Student ID, dtype: float64"
      ]
     },
     "execution_count": 326,
     "metadata": {},
     "output_type": "execute_result"
    }
   ],
   "source": [
    "# lastly, overall passing\n",
    "over_pass_avg = (Percent_passing_read + Percent_passing_avg)/2\n",
    "over_pass_avg"
   ]
  },
  {
   "cell_type": "code",
   "execution_count": 330,
   "metadata": {},
   "outputs": [
    {
     "data": {
      "text/html": [
       "<div>\n",
       "<style scoped>\n",
       "    .dataframe tbody tr th:only-of-type {\n",
       "        vertical-align: middle;\n",
       "    }\n",
       "\n",
       "    .dataframe tbody tr th {\n",
       "        vertical-align: top;\n",
       "    }\n",
       "\n",
       "    .dataframe thead th {\n",
       "        text-align: right;\n",
       "    }\n",
       "</style>\n",
       "<table border=\"1\" class=\"dataframe\">\n",
       "  <thead>\n",
       "    <tr style=\"text-align: right;\">\n",
       "      <th></th>\n",
       "      <th>Average Math Score</th>\n",
       "      <th>Average Reading Score</th>\n",
       "      <th>% Passing Math</th>\n",
       "      <th>% Passing Reading</th>\n",
       "      <th>Overall Passing Rate</th>\n",
       "    </tr>\n",
       "    <tr>\n",
       "      <th>type</th>\n",
       "      <th></th>\n",
       "      <th></th>\n",
       "      <th></th>\n",
       "      <th></th>\n",
       "      <th></th>\n",
       "    </tr>\n",
       "  </thead>\n",
       "  <tbody>\n",
       "    <tr>\n",
       "      <th>Charter</th>\n",
       "      <td>%83.41</td>\n",
       "      <td>%83.90</td>\n",
       "      <td>%93.70</td>\n",
       "      <td>%96.65</td>\n",
       "      <td>%95.17</td>\n",
       "    </tr>\n",
       "    <tr>\n",
       "      <th>District</th>\n",
       "      <td>%76.99</td>\n",
       "      <td>%80.96</td>\n",
       "      <td>%66.52</td>\n",
       "      <td>%80.91</td>\n",
       "      <td>%73.71</td>\n",
       "    </tr>\n",
       "  </tbody>\n",
       "</table>\n",
       "</div>"
      ],
      "text/plain": [
       "         Average Math Score Average Reading Score % Passing Math  \\\n",
       "type                                                               \n",
       "Charter              %83.41                %83.90         %93.70   \n",
       "District             %76.99                %80.96         %66.52   \n",
       "\n",
       "         % Passing Reading Overall Passing Rate  \n",
       "type                                             \n",
       "Charter             %96.65               %95.17  \n",
       "District            %80.91               %73.71  "
      ]
     },
     "execution_count": 330,
     "metadata": {},
     "output_type": "execute_result"
    }
   ],
   "source": [
    "#Create the datafram\n",
    "size_per_type = pd.DataFrame({\"Average Math Score\": math_avg, \"Average Reading Score\": read_avg, \"% Passing Math\": Percent_passing_avg,\"% Passing Reading\": Percent_passing_read, \"Overall Passing Rate\": over_pass_avg})\n",
    "size_per_type[\"Average Math Score\"] = size_per_type[\"Average Math Score\"].map(\"%{:.2f}\".format)\n",
    "size_per_type[\"Average Reading Score\"] = size_per_type[\"Average Reading Score\"].map(\"%{:.2f}\".format)\n",
    "size_per_type[\"% Passing Math\"] = size_per_type[\"% Passing Math\"].map(\"%{:.2f}\".format)\n",
    "size_per_type[\"% Passing Reading\"] = size_per_type[\"% Passing Reading\"].map(\"%{:.2f}\".format)\n",
    "size_per_type[\"Overall Passing Rate\"] = size_per_type[\"Overall Passing Rate\"].map(\"%{:.2f}\".format)\n",
    "size_per_type"
   ]
  },
  {
   "cell_type": "code",
   "execution_count": null,
   "metadata": {},
   "outputs": [],
   "source": []
  }
 ],
 "metadata": {
  "anaconda-cloud": {},
  "kernel_info": {
   "name": "python3"
  },
  "kernelspec": {
   "display_name": "Python 3",
   "language": "python",
   "name": "python3"
  },
  "language_info": {
   "codemirror_mode": {
    "name": "ipython",
    "version": 3
   },
   "file_extension": ".py",
   "mimetype": "text/x-python",
   "name": "python",
   "nbconvert_exporter": "python",
   "pygments_lexer": "ipython3",
   "version": "3.8.5"
  },
  "latex_envs": {
   "LaTeX_envs_menu_present": true,
   "autoclose": false,
   "autocomplete": true,
   "bibliofile": "biblio.bib",
   "cite_by": "apalike",
   "current_citInitial": 1,
   "eqLabelWithNumbers": true,
   "eqNumInitial": 1,
   "hotkeys": {
    "equation": "Ctrl-E",
    "itemize": "Ctrl-I"
   },
   "labels_anchors": false,
   "latex_user_defs": false,
   "report_style_numbering": false,
   "user_envs_cfg": false
  },
  "nteract": {
   "version": "0.8.4"
  }
 },
 "nbformat": 4,
 "nbformat_minor": 1
}
